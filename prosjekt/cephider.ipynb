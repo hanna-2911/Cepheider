{
 "cells": [
  {
   "cell_type": "markdown",
   "id": "f5b040e9",
   "metadata": {},
   "source": [
    "# Hvordan bestemmer man afstande til himmellegemer, specifikt ved brug af cepheide stjerner?\n"
   ]
  },
  {
   "cell_type": "markdown",
   "id": "35960ff7",
   "metadata": {},
   "source": [
    "## Introduktion\n",
    "Du kan med denne jupyter notebook lære hvordan man går fra et datasæt af observationer af en cephiedestjerne, og til at have fundet afstanden til denne stjerne! Du vil på vejen også lærer lidt om de andre metoder til at afstandsbestemme, fx parallaskemetorden, som du nok allerede kender godt til. \n",
    "Til sidst vil der være en lille quiz, meget i stil af de velkendte læse quizzes vi har lavet gennem ugerne, dog er denne, af en del mindre sværhedsgrad, så frygt ej!\n"
   ]
  },
  {
   "cell_type": "markdown",
   "id": "9994018e",
   "metadata": {},
   "source": [
    "## Parralakse metoden\n",
    "For at bestemme afstande til himmellegemer bruger vi forskellige metoder, alt efter hvor langt væk, det befinder sig fra os. \n",
    "Den mindste måleenhed vi har for dette, er en astronomisk enhed, som velkendt er afstanden fra Jorden til Solen. \n",
    "Dette er baggrunden for den første metode, vi bruger til stjerner, der befinder sig forholdsvist tæt på os, \n",
    "nemlig parallaksemetoden. Denne metode gør brug af simpel geometri, og vi observerer stjernen med et halvt års mellemrum hvor \n",
    "vi måler vinklen til stjernen"
   ]
  },
  {
   "cell_type": "markdown",
   "id": "97b1080b",
   "metadata": {},
   "source": [
    "![parallakse-metoden](parallakse.png)"
   ]
  },
  {
   "cell_type": "markdown",
   "id": "85fb3723",
   "metadata": {},
   "source": [
    "## Spektrotopisk afstandsbestemmelse\n",
    "En metode, der rummer stor usikkerhed, er ved at bruge en stjernes spektrum. Vi kender allerede den observerede lysstyrke, og kan ud fra spektret bestemme hvilken type stjerne det er. Denne metode er som nævnt meget usikker i sig selv, og virker bedst for meget store stjerner, og lidt mindre for hovedseriestjerner. Det skal nævnes at nøjagtigheden for lysstyrke bestemt ved denne metode er mellem 10-30%, så vi vil nok nærmerer bruge dette til at tjekke vores beregninger fra en anden metode, hvor den absolutte lysstyrke allerede er kendt. Grunden til denne unøjagtighed kommer fra interstellart støv, som kan blive absorberet af lyset vi observerer, og dermed får vi ukorrekte absorptionslinjer i spektret. \n",
    "\n"
   ]
  },
  {
   "cell_type": "markdown",
   "id": "5ce19fa9",
   "metadata": {},
   "source": [
    "## Cepheide stjerner \n",
    "For stjerner, der ikke ligger i hovedserien, og som ligger længere væk end 10000 parsec, bruger vi variable stjerner som cepheide stjerner for at bestemme afstande. Dette kan gøres blot ved at bruge data fra teleskoper, som har observeret cepheide stjernen, der pulserer. Ud fra dette skal man finde en periode for lysstyrken, som varierer i tid, og herfra kan vi finde den absolutte lysstyrke. Og derefter kan man finde afstanden ved formelen $ d=\\sqrt{\\frac{L}{4\\pi F}} $  \n",
    "Cepheide stjerner er en del af den betegnelse som vi kalder standard lys. Dette får du en guide til lidt længere nede. \n",
    "\n"
   ]
  },
  {
   "cell_type": "markdown",
   "id": "9a07a369",
   "metadata": {},
   "source": [
    "## Supernovaer (1a)\n",
    "Når vi gerne vil finde afstanden til stjerner, lidt længere væk, bruger vi supernovaer, af type 1a Disse hører også under betegnelsen standard lys, ligesom cepheide stjerner. \n",
    "Da type 1a supernoaver altid kommer fra hvide dværge og dermed alle har næsten samme spektrum, vil udviklingen af lysstyrken følge den samme kurve. Derudover er den absolutte lysstyrke for denne type supernova også næsten altid den samme. Ud fra observationer af kan man bestemme den observerede lysstyrke, og da vi allerede har den absolutte lysstyrke, kan man nemt bestemme afstanden til denne, ved hjælp af samme formel som ovenover\n",
    "$ d=\\sqrt{\\frac{L}{4\\pi F}} $\n",
    "\n",
    "\n",
    "\n",
    "\n",
    "\n"
   ]
  },
  {
   "cell_type": "markdown",
   "id": "8db094a5",
   "metadata": {},
   "source": [
    "Til sidst har vi metoden, som vi bruger når vi skal finde afstanden til himmellegemer, som befinder sig rigtig langt fra os. Vi ved at universet udvider sig, hvilket forårsager rødforskydning af himmellegemers spektrum, som bevæger sig væk fra os (og blåforskydning for objekter der bevæger sig mod os.) På meget store afstande, er der kun rødforskydning af spektret, og vi kan nemt regne denne rødforskydning ud, ved formlen\n",
    "\n",
    "\\begin{equation}\n",
    "z=\\frac{\\lambda_{mod}-\\lambda_{uds}}{\\lambda_{uds}}\n",
    "\\end{equation}\n",
    "\n",
    "Dette skal vi bruge til at udregne recessionshastigheden, altså den hastighed hvormed stjernen eller galaksen bevæger dig væk fra os:\n",
    "\n",
    "\\begin{equation}\n",
    "v=zc\n",
    "\\end{equation}\n",
    "\n",
    "Der $c$ er lysetshastighet\n",
    "\n",
    "Denne hastighed v, bruger vi så i Hubbles lov, som siger:\n",
    "\\begin{equation}\n",
    "d=\\frac{v}{H_{0}} \n",
    "\\end{equation}\n",
    "\n",
    "Der $H_{0}$ er definert som $H_{0}=67,4\\frac{km}{\\frac{s}{Mpc}}$\n",
    "\n",
    "Dermed har vi fundet distancen mellem os og det lysende objekt. \n",
    "\n",
    "\n",
    "\n",
    "\n"
   ]
  },
  {
   "cell_type": "markdown",
   "id": "f9f7c7fa",
   "metadata": {},
   "source": [
    "Hubble Metoden\n",
    "\n",
    "\n",
    "\n"
   ]
  },
  {
   "cell_type": "markdown",
   "id": "2b19cb9d",
   "metadata": {},
   "source": [
    "## Hvad er Cepheide stjerner\n",
    "Cepheide stjerner er en type af stjerner hvis lysstyrke pulserer, så dens diameter og temperatur ændrer sig, afhængende af dens størrelse. Det vil altså sige, at jo større stjernen er, jo længere tid vil dens periode vare, og jo større vil dens amplitude være. Det var Henrietta Swan Leavitt der i sin tid (1908) opdagede Cepheide stjernernes karakteristika, efter at have studeret tusindvis af stjerner i de Magellanske Skyer. På grund af hendes opdagelse, kan vi finde lysstyrken af en Cepheide stjerne, udelukkende ved at kigge på dens periode. Det er også derfor, at vi kan bestemme afstanden til stjernen, ved at sammenligne dens observeret lysstyrke (brightness) med dens kendte lysstyrke (luminosity).\n",
    "Der findes to typer af Cepheide stjerner; klassiske Cepheider, som vi kigger på i dette projekt, og type ii Cepheider. Klassiske Cepheide stjerner har et højt metalindhold, og typisk en periode på mindre end 10 dage. Type ii Cepheider har lavt metalindhold, og deres periode strækker sig mellem 10 og 50 dage. Type ii Cepheider er også oftest mindre i masse, og ældre end klassiske Cepheide stjerner. De klassiske Cepheide stjerner har for det meste en masse på 4-20 gange Solens masse, og er mellem 1000-50.000 gange lysere.\n",
    "\n",
    "\n"
   ]
  },
  {
   "cell_type": "markdown",
   "id": "a9835044",
   "metadata": {},
   "source": [
    "![periode-lystyrke forhold](period-luminosity-cepheide.png)\n",
    "\n"
   ]
  },
  {
   "cell_type": "markdown",
   "id": "9c0a3132",
   "metadata": {},
   "source": [
    "Ovenover ses en figur der illustrerer forskellene mellem de to typer af cepheide stjerner, samt sammenhængen mellem en cepheide stjernes periode og lysstyrke. I hjørnet af grafen ses også de såkaldte RR-lyrae stjerner, som er meget mere almene end cepheide stjerner, men også med meget mindre lysstyrke- som jo kan ses på figuren.\n",
    "Der er indtil videre fundet omkring 800 Cepheide stjerner i Mælkevejen, men man forventer at det egentlige antal er omkring 6000.\n",
    "\n"
   ]
  },
  {
   "cell_type": "markdown",
   "id": "3efc7ed8",
   "metadata": {},
   "source": [
    "## Hvordan finder vi så afstanden til en Cepheide stjerne?\n",
    "\n",
    "1. Vi skal selvfølgelig starte med noget data, fra et teleskop, der har observeret en cephiedestjernes pulsering over tid. Dette data er i filen \"datauge13\". \n",
    "2. Næste step er at importeret dette datasæt til jupyter notebook, så vi kan bruge det i vores udregninger. Dette gør vi ved at uploade dataen i vores library i jupyter notebook, og så er det klar til brug!\n",
    "3. Vi skal huske at importere pakkerne numpy (som np), matplotlib.pyploy (som plt) og ipwidgets (som widgets) for at det er muligt at gøre det interaktivt. "
   ]
  },
  {
   "cell_type": "code",
   "execution_count": 1,
   "id": "ff0825cb",
   "metadata": {},
   "outputs": [],
   "source": [
    "#Importerer pakkene\n",
    "import numpy as np      \n",
    "import matplotlib.pyplot as plt \n",
    "import ipywidgets as widgets \n",
    "\n"
   ]
  },
  {
   "cell_type": "markdown",
   "id": "bef71937",
   "metadata": {},
   "source": [
    "Nu skal vi have vores data lavet om til to lister, en liste med lysstykerken, og en liste med tid. Så kan vi lave en graf. \n",
    "Dette gør vi, så det er muligt for os at estimere en periode for stjernens pulsering. Denne periode skal vi bruge for at senere finde en absolutte lystyrke. "
   ]
  },
  {
   "cell_type": "code",
   "execution_count": 2,
   "id": "befa7421",
   "metadata": {
    "scrolled": true
   },
   "outputs": [
    {
     "data": {
      "image/png": "[encoded data removed]",
      "text/plain": [
       "<Figure size 432x288 with 1 Axes>"
      ]
     },
     "metadata": {
      "needs_background": "light"
     },
     "output_type": "display_data"
    },
    {
     "name": "stdout",
     "output_type": "stream",
     "text": [
      "Den store variation fra plottet, skyldes fejl i målingerne ad dataen.\n"
     ]
    }
   ],
   "source": [
    "#Splitter dataen op i to lister, så vi tid og lysstyrke i to forskelleige lister\n",
    "tid, lysstyrke=np.loadtxt('datauge13.txt',unpack=True, skiprows=1)\n",
    "\n",
    "\n",
    "\n",
    "#Vi plotter en graf med tiden ud af x-aksen og lysstyrken ud af y-aksen, for at finde en periode for cephiedestjernens pulserering. \n",
    "plt.plot(tid,lysstyrke)\n",
    "plt.xlabel(\"tid\")\n",
    "plt.ylabel(\"observert lystyrke\")\n",
    "plt.title(\"Plottet viser hvordan den observerede lysstyrke ændres med tid\")\n",
    "plt.show()\n",
    "\n",
    "\n",
    "\n",
    "print(\"Den store variation fra plottet, skyldes fejl i målingerne ad dataen.\") \n"
   ]
  },
  {
   "cell_type": "markdown",
   "id": "e34e4105",
   "metadata": {},
   "source": [
    "Ud fra grafen overfor, er det svært at bedømme en periode, så vi zoomer ind på grafen, for det er lettere at se, hvad perioden cirka svarer til."
   ]
  },
  {
   "cell_type": "code",
   "execution_count": 3,
   "id": "5a68dfd3",
   "metadata": {},
   "outputs": [
    {
     "data": {
      "image/png": "[encoded data removed]",
      "text/plain": [
       "<Figure size 432x288 with 1 Axes>"
      ]
     },
     "metadata": {
      "needs_background": "light"
     },
     "output_type": "display_data"
    },
    {
     "name": "stdout",
     "output_type": "stream",
     "text": [
      "Her kan vi approksimerer perioden ved at kigge på afstanden mellem de to bølgetoppe, som i dettte tilfælde er cirka 4 \n"
     ]
    }
   ],
   "source": [
    "\n",
    "#Laver et zoomet inn plott av vår graf\n",
    "zoom_t=tid[:10]\n",
    "zoom_l=lysstyrke[:10]\n",
    "plt.plot(zoom_t,zoom_l)\n",
    "plt.xlabel(\"tid\")\n",
    "plt.ylabel(\"observert lystyrke\")\n",
    "plt.show()\n",
    "\n",
    "\n",
    "print(\"Her kan vi approksimerer perioden ved at kigge på afstanden mellem de to bølgetoppe, som i dettte tilfælde er cirka 4 \")\n"
   ]
  },
  {
   "cell_type": "markdown",
   "id": "cf74f009",
   "metadata": {},
   "source": [
    "Vi kan kun finde perioden ved at gætte. Her kan vi se hvordan en forkert periode vil give et mærkeligt plot af af fasen. \n",
    "Vi prøver os derfor frem, indtil vi finder en værdi for perioden P, som giver den fase, der ser \"pænest\" ud. Vi forsøger os indenfor en periode på 3.5 og 4.5 da vores gæt ovenfra er cirka 4."
   ]
  },
  {
   "cell_type": "code",
   "execution_count": 4,
   "id": "0e5dbb6d",
   "metadata": {},
   "outputs": [
    {
     "name": "stdout",
     "output_type": "stream",
     "text": [
      "I dette plottet kan du selv velge hvilken periode vi bruker til vårt plot \n",
      " \n"
     ]
    },
    {
     "data": {
      "application/vnd.jupyter.widget-view+json": {
       "model_id": "bf1cc861e2fd457da250aa2698c4aeb4",
       "version_major": 2,
       "version_minor": 0
      },
      "text/plain": [
       "interactive(children=(FloatSlider(value=3.5, description='P', max=4.5, min=3.5, step=0.07), Output()), _dom_cl…"
      ]
     },
     "metadata": {},
     "output_type": "display_data"
    },
    {
     "name": "stdout",
     "output_type": "stream",
     "text": [
      "Ved en periode på 3.78 kan du se at vi får det korrekte plot\n"
     ]
    }
   ],
   "source": [
    "def my_plot(P):\n",
    "    \n",
    "    return tid%P\n",
    "\n",
    "\n",
    "\n",
    "print(\"I dette plottet kan du selv velge hvilken periode vi bruker til vårt plot \\n \")\n",
    "\n",
    "@widgets.interact(P=(3.5, 4.5, 0.07))\n",
    "def update(P = 1.0):\n",
    "    \n",
    "    \n",
    "    plt.plot(my_plot(P),lysstyrke,\"o\", color=\"g\")\n",
    "    plt.xlabel(\"tid i dager\")\n",
    "    plt.ylabel(\"observert lystyrke\")\n",
    "\n",
    "    #plt.title(\"\")\n",
    "    plt.show()\n",
    "\n",
    "\n",
    "print(\"Ved en periode på 3.78 kan du se at vi får det korrekte plot\")\n"
   ]
  },
  {
   "cell_type": "markdown",
   "id": "53e95f01",
   "metadata": {},
   "source": [
    "Nu har vi fundet den rigtige værdi for perioden, nemlig 3.78, og vi kan derfra finde den absolutte lysstyrke M, ved hjælp af formlen: \n",
    "\n",
    "\\begin{equation}\n",
    "M=-2.43(\\log_{10}(P)-1)-4.05\n",
    "\\end{equation}\n",
    "\n",
    "Der efter finder vi L ved denne formel:\n",
    "\n",
    "\\begin{equation}\n",
    "L=L_{0}10^{-0.4M}\n",
    "\\end{equation}\n",
    "\n",
    "$L_{0}$ er nul punkts lysstyrken, som er defineret til $L_{0}=3.0128×10^{28}$ ud fra solens lysstyrke.\n",
    "\n",
    "Dette bruger vi til at finde afstanden til stjernen, ved brug af formlen: \n",
    "\\begin{equation}\n",
    "d=\\sqrt{\\frac{L}{4\\pi F}}\n",
    "\\end{equation}\n",
    "\n",
    "Der $F$ er fluxen som i dette tilfælde er  $F=1.36*10^{-14}\\frac{W}{m^{2}}$\n"
   ]
  },
  {
   "cell_type": "code",
   "execution_count": 5,
   "id": "761c1a49",
   "metadata": {},
   "outputs": [
    {
     "name": "stdout",
     "output_type": "stream",
     "text": [
      "Gjennonsnittet av den abselutte lysstyrken er -3.02\n",
      "Avstanden fra oss til cephiden er 54754.28 parsec\n"
     ]
    }
   ],
   "source": [
    "#Definerer vår periode til P=3.78\n",
    "P=3.78\n",
    "\n",
    "#Definerer L_0\n",
    "L_0=3.0128*10**(28)\n",
    "\n",
    "factor_parsec=(3.0857*10**(16)) \n",
    "\n",
    "#s the zero point luminosity 3.0128×1028 W\n",
    "\n",
    "#Definerer fluxen F\n",
    "F=1.36*10**(-14) #W/m**2\n",
    "\n",
    "#Finder den absolutte lysstyrken\n",
    "M = -2.43*(np.log10(P)-1)-4.05 \n",
    "\n",
    "print(\"Gjennonsnittet av den abselutte lysstyrken er\", format(M, \"0.2f\"))\n",
    "L=L_0*10**(-0.4*M)\n",
    "\n",
    "#Finder avstanden\n",
    "d = np.sqrt(L/(4*np.pi*F))/factor_parsec\n",
    "\n",
    "print(\"Avstanden fra oss til cephiden er\", format(d, \"0.2f\"), \"parsec\")\n"
   ]
  },
  {
   "cell_type": "markdown",
   "id": "c0e70c0e",
   "metadata": {},
   "source": [
    " ## Til slut en lille quiz!"
   ]
  },
  {
   "cell_type": "code",
   "execution_count": 6,
   "id": "c78ffca2",
   "metadata": {},
   "outputs": [
    {
     "name": "stdout",
     "output_type": "stream",
     "text": [
      "Hvor mange typer cepheide stjerner findes der?\n"
     ]
    },
    {
     "data": {
      "application/vnd.jupyter.widget-view+json": {
       "model_id": "824499485a8d4f1e957516ddf4128c4b",
       "version_major": 2,
       "version_minor": 0
      },
      "text/plain": [
       "HBox(children=(VBox(children=(RadioButtons(options=('5', '2', '16'), value='5'), Button(button_style='info', d…"
      ]
     },
     "metadata": {},
     "output_type": "display_data"
    }
   ],
   "source": [
    "print(\"Hvor mange typer cepheide stjerner findes der?\")\n",
    "\n",
    "valg = widgets.RadioButtons(\n",
    "    options=[\"5\", \"2\", \"16\"],\n",
    "    \n",
    "    \n",
    ")\n",
    "\n",
    "button = widgets.Button(\n",
    "    description='Send',\n",
    "    disabled=False,\n",
    "    button_style=\"info\",\n",
    ")\n",
    "\n",
    "def evaluate(button):\n",
    "\n",
    "    selection1 = valg.get_interact_value()\n",
    "\n",
    "    if (selection1 == \"2\"):\n",
    "        print(\"Rigtig\")\n",
    "    else:\n",
    "        print(\"Prøv igen\")\n",
    "# To reset the option value. However, I would like to avoid having a \"default\" value\n",
    "        valg.value = None   \n",
    "    \n",
    "    \n",
    "button.on_click(evaluate)        \n",
    "\n",
    "left_box = widgets.VBox([valg, button])\n",
    "widgets.HBox([left_box])\n"
   ]
  },
  {
   "cell_type": "code",
   "execution_count": 7,
   "id": "b60d36c6",
   "metadata": {},
   "outputs": [
    {
     "name": "stdout",
     "output_type": "stream",
     "text": [
      "Galaksen M87 har rødforskydning z=0.00428. Find distancen ved hjælp af Hubble metoden\n"
     ]
    },
    {
     "data": {
      "application/vnd.jupyter.widget-view+json": {
       "model_id": "ad96d1be1f2d4f5d9e8cbc915f9b1d1d",
       "version_major": 2,
       "version_minor": 0
      },
      "text/plain": [
       "HBox(children=(VBox(children=(RadioButtons(options=('1021 Mpc', '34 Mpc', '19 Mpc'), value='1021 Mpc'), Button…"
      ]
     },
     "metadata": {},
     "output_type": "display_data"
    },
    {
     "name": "stdout",
     "output_type": "stream",
     "text": [
      "Rigtig\n"
     ]
    }
   ],
   "source": [
    "\n",
    "print(\"Galaksen M87 har rødforskydning z=0.00428. Find distancen ved hjælp af Hubble metoden\") \n",
    "\n",
    "valg2 = widgets.RadioButtons(\n",
    "    options=[\"1021 Mpc\", \"34 Mpc\", \"19 Mpc\"],\n",
    "    \n",
    "    \n",
    ")\n",
    "\n",
    "button = widgets.Button(\n",
    "    description='Send',\n",
    "    disabled=False,\n",
    "    button_style=\"info\",\n",
    ")\n",
    "\n",
    "def evaluate(button):\n",
    "\n",
    "    selection2 = valg2.get_interact_value()\n",
    "\n",
    "    if (selection2 == \"19 Mpc\"):\n",
    "        print(\"Rigtig\")\n",
    "    else:\n",
    "        print(\"Prøv igen\")\n",
    "# To reset the option value. However, I would like to avoid having a \"default\" value\n",
    "        valg.value = None   \n",
    "    \n",
    "    \n",
    "button.on_click(evaluate)        \n",
    "\n",
    "left_box = widgets.VBox([valg2, button])\n",
    "widgets.HBox([left_box])\n",
    "\n"
   ]
  },
  {
   "cell_type": "code",
   "execution_count": 8,
   "id": "7db9c547",
   "metadata": {},
   "outputs": [
    {
     "name": "stdout",
     "output_type": "stream",
     "text": [
      "Hvilke elementer skal man bruge for at udregne distancen til en cepheide stjerne?\n"
     ]
    },
    {
     "data": {
      "application/vnd.jupyter.widget-view+json": {
       "model_id": "6a342a3962b84d5a9e5638e3b402ab3a",
       "version_major": 2,
       "version_minor": 0
      },
      "text/plain": [
       "HBox(children=(VBox(children=(RadioButtons(options=('Densitet, radius og masse', 'Masse, periode og vinklen ti…"
      ]
     },
     "metadata": {},
     "output_type": "display_data"
    }
   ],
   "source": [
    "\n",
    "print(\"Hvilke elementer skal man bruge for at udregne distancen til en cepheide stjerne?\") \n",
    "\n",
    "valg3 = widgets.RadioButtons(\n",
    "    options=[\"Densitet, radius og masse\", \"Masse, periode og vinklen til stjernen\", \"Periode, flux og den absolutte lysstyrke\"],\n",
    "    \n",
    "    \n",
    ")\n",
    "\n",
    "button = widgets.Button(\n",
    "    description='Send',\n",
    "    disabled=False,\n",
    "    button_style=\"info\",\n",
    ")\n",
    "\n",
    "def evaluate(button):\n",
    "\n",
    "    selection3 = valg3.get_interact_value()\n",
    "\n",
    "    if (selection3 == \"Periode, flux og den absolutte lysstyrke\"):\n",
    "        print(\"Rigtig\")\n",
    "    else:\n",
    "        print(\"Prøv igen\")\n",
    "# To reset the option value. However, I would like to avoid having a \"default\" value\n",
    "        valg.value = None   \n",
    "    \n",
    "    \n",
    "button.on_click(evaluate)        \n",
    "\n",
    "left_box = widgets.VBox([valg3, button])\n",
    "widgets.HBox([left_box])\n",
    "\n"
   ]
  },
  {
   "cell_type": "code",
   "execution_count": 9,
   "id": "c1815b88",
   "metadata": {},
   "outputs": [
    {
     "name": "stdout",
     "output_type": "stream",
     "text": [
      "Hvem fandt forholdet mellem perioden og lysstyrke af cepheider?\n"
     ]
    },
    {
     "data": {
      "application/vnd.jupyter.widget-view+json": {
       "model_id": "1490920d70de4c30a859cf7548818773",
       "version_major": 2,
       "version_minor": 0
      },
      "text/plain": [
       "HBox(children=(VBox(children=(RadioButtons(options=(' Edwin Hubble', 'Henrietta Swan Leavitt', 'Thomas Tram'),…"
      ]
     },
     "metadata": {},
     "output_type": "display_data"
    }
   ],
   "source": [
    "\n",
    "print(\"Hvem fandt forholdet mellem perioden og lysstyrke af cepheider?\") \n",
    "\n",
    "valg4 = widgets.RadioButtons(\n",
    "    options=[' Edwin Hubble', 'Henrietta Swan Leavitt', 'Thomas Tram'],\n",
    "    \n",
    "    \n",
    ")\n",
    "\n",
    "button = widgets.Button(\n",
    "    description='Send',\n",
    "    disabled=False,\n",
    "    button_style=\"info\",\n",
    ")\n",
    "\n",
    "def evaluate(button):\n",
    "\n",
    "    selection4 = valg4.get_interact_value()\n",
    "\n",
    "    if (selection4 == \"Henrietta Swan Leavitt\"):\n",
    "        print(\"Rigtig\")\n",
    "    else:\n",
    "        print(\"Prøv igen\")\n",
    "# To reset the option value. However, I would like to avoid having a \"default\" value\n",
    "        valg.value = None   \n",
    "    \n",
    "    \n",
    "button.on_click(evaluate)        \n",
    "\n",
    "left_box = widgets.VBox([valg4, button])\n",
    "widgets.HBox([left_box])\n"
   ]
  },
  {
   "cell_type": "code",
   "execution_count": null,
   "id": "fe0b8895",
   "metadata": {},
   "outputs": [],
   "source": []
  }
 ],
 "metadata": {
  "kernelspec": {
   "display_name": "Python 3",
   "language": "python",
   "name": "python3"
  },
  "language_info": {
   "codemirror_mode": {
    "name": "ipython",
    "version": 3
   },
   "file_extension": ".py",
   "mimetype": "text/x-python",
   "name": "python",
   "nbconvert_exporter": "python",
   "pygments_lexer": "ipython3",
   "version": "3.8.8"
  }
 },
 "nbformat": 4,
 "nbformat_minor": 5
}
